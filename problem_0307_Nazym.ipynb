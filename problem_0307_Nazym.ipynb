{
  "nbformat": 4,
  "nbformat_minor": 0,
  "metadata": {
    "kernelspec": {
      "display_name": "Python 3",
      "language": "python",
      "name": "python3"
    },
    "language_info": {
      "codemirror_mode": {
        "name": "ipython",
        "version": 3
      },
      "file_extension": ".py",
      "mimetype": "text/x-python",
      "name": "python",
      "nbconvert_exporter": "python",
      "pygments_lexer": "ipython3",
      "version": "3.7.0"
    },
    "toc": {
      "base_numbering": 1,
      "nav_menu": {},
      "number_sections": true,
      "sideBar": true,
      "skip_h1_title": false,
      "title_cell": "Table of Contents",
      "title_sidebar": "Contents",
      "toc_cell": false,
      "toc_position": {},
      "toc_section_display": true,
      "toc_window_display": false
    },
    "varInspector": {
      "cols": {
        "lenName": 16,
        "lenType": 16,
        "lenVar": 40
      },
      "kernels_config": {
        "python": {
          "delete_cmd_postfix": "",
          "delete_cmd_prefix": "del ",
          "library": "var_list.py",
          "varRefreshCmd": "print(var_dic_list())"
        },
        "r": {
          "delete_cmd_postfix": ") ",
          "delete_cmd_prefix": "rm(",
          "library": "var_list.r",
          "varRefreshCmd": "cat(var_dic_list()) "
        }
      },
      "types_to_exclude": [
        "module",
        "function",
        "builtin_function_or_method",
        "instance",
        "_Feature"
      ],
      "window_display": false
    },
    "colab": {
      "name": "problem_0307_Nazym.ipynb",
      "provenance": [],
      "collapsed_sections": []
    }
  },
  "cells": [
    {
      "cell_type": "markdown",
      "metadata": {
        "id": "xIfRkfvOeTHO"
      },
      "source": [
        "## Quiz #0307"
      ]
    },
    {
      "cell_type": "markdown",
      "metadata": {
        "id": "xl4A969eeTHP"
      },
      "source": [
        "### \"EDA and ANOVA for guinea pig tooth growth\""
      ]
    },
    {
      "cell_type": "code",
      "metadata": {
        "id": "fNd4WKB4eTHP"
      },
      "source": [
        "import numpy as np\n",
        "import pandas as pd\n",
        "import scipy.stats as st\n",
        "import matplotlib.pyplot as plt\n",
        "import seaborn as sns\n",
        "import os\n",
        "%matplotlib inline"
      ],
      "execution_count": 2,
      "outputs": []
    },
    {
      "cell_type": "markdown",
      "metadata": {
        "id": "8BTSbBl5eTHP"
      },
      "source": [
        "#### Answer the following questions by providing Python code:"
      ]
    },
    {
      "cell_type": "markdown",
      "metadata": {
        "id": "IH5jIdQbeTHQ"
      },
      "source": [
        "We will use the dataset \"data_ToothGrowth.csv\". \n",
        "- len = teeth length. \n",
        "- supp = supplementary type with two possible values: VC (vitamin C) or OJ (orange juice). \n",
        "- dose (mgr/day) = dosage per day with three possible values: 0.5, 1.0, 2.0."
      ]
    },
    {
      "cell_type": "code",
      "metadata": {
        "id": "mDH7qE1AeTHQ"
      },
      "source": [
        "df = pd.read_csv('data_ToothGrowth.csv', header='infer')"
      ],
      "execution_count": 4,
      "outputs": []
    },
    {
      "cell_type": "code",
      "metadata": {
        "colab": {
          "base_uri": "https://localhost:8080/",
          "height": 204
        },
        "id": "rhVgZK36eTHQ",
        "outputId": "9eeeaf09-3e0b-4f35-e006-ed05e3e0f93a"
      },
      "source": [
        "df.head()"
      ],
      "execution_count": 44,
      "outputs": [
        {
          "output_type": "execute_result",
          "data": {
            "text/html": [
              "<div>\n",
              "<style scoped>\n",
              "    .dataframe tbody tr th:only-of-type {\n",
              "        vertical-align: middle;\n",
              "    }\n",
              "\n",
              "    .dataframe tbody tr th {\n",
              "        vertical-align: top;\n",
              "    }\n",
              "\n",
              "    .dataframe thead th {\n",
              "        text-align: right;\n",
              "    }\n",
              "</style>\n",
              "<table border=\"1\" class=\"dataframe\">\n",
              "  <thead>\n",
              "    <tr style=\"text-align: right;\">\n",
              "      <th></th>\n",
              "      <th>len</th>\n",
              "      <th>supp</th>\n",
              "      <th>dose</th>\n",
              "    </tr>\n",
              "  </thead>\n",
              "  <tbody>\n",
              "    <tr>\n",
              "      <th>0</th>\n",
              "      <td>4.2</td>\n",
              "      <td>VC</td>\n",
              "      <td>0.5</td>\n",
              "    </tr>\n",
              "    <tr>\n",
              "      <th>1</th>\n",
              "      <td>11.5</td>\n",
              "      <td>VC</td>\n",
              "      <td>0.5</td>\n",
              "    </tr>\n",
              "    <tr>\n",
              "      <th>2</th>\n",
              "      <td>7.3</td>\n",
              "      <td>VC</td>\n",
              "      <td>0.5</td>\n",
              "    </tr>\n",
              "    <tr>\n",
              "      <th>3</th>\n",
              "      <td>5.8</td>\n",
              "      <td>VC</td>\n",
              "      <td>0.5</td>\n",
              "    </tr>\n",
              "    <tr>\n",
              "      <th>4</th>\n",
              "      <td>6.4</td>\n",
              "      <td>VC</td>\n",
              "      <td>0.5</td>\n",
              "    </tr>\n",
              "  </tbody>\n",
              "</table>\n",
              "</div>"
            ],
            "text/plain": [
              "    len supp  dose\n",
              "0   4.2   VC   0.5\n",
              "1  11.5   VC   0.5\n",
              "2   7.3   VC   0.5\n",
              "3   5.8   VC   0.5\n",
              "4   6.4   VC   0.5"
            ]
          },
          "metadata": {
            "tags": []
          },
          "execution_count": 44
        }
      ]
    },
    {
      "cell_type": "code",
      "metadata": {
        "colab": {
          "base_uri": "https://localhost:8080/"
        },
        "id": "h4wY6ek-euz7",
        "outputId": "8ed89516-38bc-41fc-8c9c-1164c6efaab1"
      },
      "source": [
        "df.shape"
      ],
      "execution_count": 45,
      "outputs": [
        {
          "output_type": "execute_result",
          "data": {
            "text/plain": [
              "(60, 3)"
            ]
          },
          "metadata": {
            "tags": []
          },
          "execution_count": 45
        }
      ]
    },
    {
      "cell_type": "code",
      "metadata": {
        "colab": {
          "base_uri": "https://localhost:8080/"
        },
        "id": "cOgBjyH9eTHQ",
        "outputId": "aeff4c20-9a06-4d94-c088-1268894a355a"
      },
      "source": [
        "df.supp.value_counts()"
      ],
      "execution_count": 46,
      "outputs": [
        {
          "output_type": "execute_result",
          "data": {
            "text/plain": [
              "VC    30\n",
              "OJ    30\n",
              "Name: supp, dtype: int64"
            ]
          },
          "metadata": {
            "tags": []
          },
          "execution_count": 46
        }
      ]
    },
    {
      "cell_type": "markdown",
      "metadata": {
        "id": "UWvLW_1LeTHQ"
      },
      "source": [
        "1). Perform the EDA and ANOVA ($\\alpha=$ 5%) with the 'supp' variable. <br>\n",
        "Summarize the result."
      ]
    },
    {
      "cell_type": "code",
      "metadata": {
        "colab": {
          "base_uri": "https://localhost:8080/"
        },
        "id": "6IGNfjt2eTHR",
        "outputId": "5b9f30ad-643c-4555-e7a8-984f55627ec6"
      },
      "source": [
        "# Categories of 'supp'. \n",
        "df.supp.value_counts()"
      ],
      "execution_count": 47,
      "outputs": [
        {
          "output_type": "execute_result",
          "data": {
            "text/plain": [
              "VC    30\n",
              "OJ    30\n",
              "Name: supp, dtype: int64"
            ]
          },
          "metadata": {
            "tags": []
          },
          "execution_count": 47
        }
      ]
    },
    {
      "cell_type": "code",
      "metadata": {
        "colab": {
          "base_uri": "https://localhost:8080/"
        },
        "id": "lBrRzErBeTHR",
        "outputId": "1cc2e3ac-ea61-4d2f-9ec7-0e67442c9e63"
      },
      "source": [
        "# Group by category.\n",
        "print(df.groupby(['supp']).len.mean())"
      ],
      "execution_count": 7,
      "outputs": [
        {
          "output_type": "stream",
          "text": [
            "supp\n",
            "OJ    20.663333\n",
            "VC    16.963333\n",
            "Name: len, dtype: float64\n"
          ],
          "name": "stdout"
        }
      ]
    },
    {
      "cell_type": "code",
      "metadata": {
        "colab": {
          "base_uri": "https://localhost:8080/",
          "height": 579
        },
        "id": "44NZMO21eTHR",
        "outputId": "fe5a6e48-8108-4e8a-ddf7-d35434878322"
      },
      "source": [
        "# Multiple Boxplots.\n",
        "sns.boxplot(x=\"supp\", y=\"len\",\n",
        "            \n",
        "            data=df)\n",
        "\n",
        "plt.figure(), sns.boxplot(x=\"dose\", y=\"len\",\n",
        "            hue = 'supp',\n",
        "            data=df)"
      ],
      "execution_count": 18,
      "outputs": [
        {
          "output_type": "execute_result",
          "data": {
            "text/plain": [
              "(<Figure size 432x288 with 1 Axes>,\n",
              " <matplotlib.axes._subplots.AxesSubplot at 0x7fd54ded1990>)"
            ]
          },
          "metadata": {
            "tags": []
          },
          "execution_count": 18
        },
        {
          "output_type": "display_data",
          "data": {
            "image/png": "[encoded data removed]",
            "text/plain": [
              "<Figure size 432x288 with 1 Axes>"
            ]
          },
          "metadata": {
            "tags": [],
            "needs_background": "light"
          }
        },
        {
          "output_type": "display_data",
          "data": {
            "image/png": "[encoded data removed]",
            "text/plain": [
              "<Figure size 432x288 with 1 Axes>"
            ]
          },
          "metadata": {
            "tags": [],
            "needs_background": "light"
          }
        }
      ]
    },
    {
      "cell_type": "code",
      "metadata": {
        "scrolled": true,
        "colab": {
          "base_uri": "https://localhost:8080/"
        },
        "id": "rDhjbIOCeTHR",
        "outputId": "978dd424-d308-496c-ce39-ddc04f3166e1"
      },
      "source": [
        "# ANOVA.\n",
        "st.f_oneway(df[df.supp=='VC'].len, df[df.supp=='OJ'].len)"
      ],
      "execution_count": 65,
      "outputs": [
        {
          "output_type": "execute_result",
          "data": {
            "text/plain": [
              "F_onewayResult(statistic=3.6682525410709697, pvalue=0.060393371224128745)"
            ]
          },
          "metadata": {
            "tags": []
          },
          "execution_count": 65
        }
      ]
    },
    {
      "cell_type": "code",
      "metadata": {
        "id": "UzibMLlu3JMM"
      },
      "source": [
        "# Result summary.\n",
        "# null hypothesis H0 = variances are equal\n",
        "#  since Pvalue is greater than 0.05, we can not reject the null hypothesis"
      ],
      "execution_count": null,
      "outputs": []
    },
    {
      "cell_type": "markdown",
      "metadata": {
        "id": "MGKcIKGReTHR"
      },
      "source": [
        "2). Perform the EDA and ANOVA ($\\alpha=$ 5%) with the 'dose' variable. <br>\n",
        "Summarize the result."
      ]
    },
    {
      "cell_type": "code",
      "metadata": {
        "colab": {
          "base_uri": "https://localhost:8080/"
        },
        "id": "28NhHcmGeTHR",
        "outputId": "26ce5725-cce8-4cf7-adc4-e3b327ce9139"
      },
      "source": [
        "# Categories of 'dose'. \n",
        "df.dose.value_counts()"
      ],
      "execution_count": 5,
      "outputs": [
        {
          "output_type": "execute_result",
          "data": {
            "text/plain": [
              "2.0    20\n",
              "1.0    20\n",
              "0.5    20\n",
              "Name: dose, dtype: int64"
            ]
          },
          "metadata": {
            "tags": []
          },
          "execution_count": 5
        }
      ]
    },
    {
      "cell_type": "code",
      "metadata": {
        "colab": {
          "base_uri": "https://localhost:8080/"
        },
        "id": "K3EZ-ym4eTHS",
        "outputId": "9c2691c1-0ead-470f-a51f-b95d0b46d081"
      },
      "source": [
        "# Group by category.\n",
        "print(df.groupby(['dose']).len.mean())"
      ],
      "execution_count": 11,
      "outputs": [
        {
          "output_type": "stream",
          "text": [
            "dose\n",
            "0.5    10.605\n",
            "1.0    19.735\n",
            "2.0    26.100\n",
            "Name: len, dtype: float64\n"
          ],
          "name": "stdout"
        }
      ]
    },
    {
      "cell_type": "code",
      "metadata": {
        "colab": {
          "base_uri": "https://localhost:8080/",
          "height": 298
        },
        "id": "EAUV0nxB3wlW",
        "outputId": "51faac6c-9171-45b4-9520-e7756d8438f6"
      },
      "source": [
        "sns.boxplot(x=\"dose\", y=\"len\",\n",
        "            \n",
        "            data=df)"
      ],
      "execution_count": 12,
      "outputs": [
        {
          "output_type": "execute_result",
          "data": {
            "text/plain": [
              "<matplotlib.axes._subplots.AxesSubplot at 0x7fd54f37dfd0>"
            ]
          },
          "metadata": {
            "tags": []
          },
          "execution_count": 12
        },
        {
          "output_type": "display_data",
          "data": {
            "image/png": "[encoded data removed]",
            "text/plain": [
              "<Figure size 432x288 with 1 Axes>"
            ]
          },
          "metadata": {
            "tags": [],
            "needs_background": "light"
          }
        }
      ]
    },
    {
      "cell_type": "code",
      "metadata": {
        "colab": {
          "base_uri": "https://localhost:8080/"
        },
        "id": "Vh_DXh1LeTHS",
        "outputId": "75fbd610-efca-47c7-d450-0b13229324da"
      },
      "source": [
        "# ANOVA.\n",
        "st.f_oneway(df[df.dose==0.5].len, df[df.dose==1.0].len, df[df.dose==2.0].len)"
      ],
      "execution_count": 16,
      "outputs": [
        {
          "output_type": "execute_result",
          "data": {
            "text/plain": [
              "F_onewayResult(statistic=67.41573785674247, pvalue=9.532727011699946e-16)"
            ]
          },
          "metadata": {
            "tags": []
          },
          "execution_count": 16
        }
      ]
    },
    {
      "cell_type": "code",
      "metadata": {
        "id": "rutFv7KfeTHS"
      },
      "source": [
        "# Result summary.\n",
        "# Since pvalue is way inferior than 0.05, than we reject the null hypothesis, thus the variances are not equal."
      ],
      "execution_count": 19,
      "outputs": []
    },
    {
      "cell_type": "code",
      "metadata": {
        "id": "r5DfqzFC74ZV"
      },
      "source": [
        ""
      ],
      "execution_count": null,
      "outputs": []
    }
  ]
}