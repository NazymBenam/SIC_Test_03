{
  "nbformat": 4,
  "nbformat_minor": 0,
  "metadata": {
    "kernelspec": {
      "display_name": "Python 3",
      "language": "python",
      "name": "python3"
    },
    "language_info": {
      "codemirror_mode": {
        "name": "ipython",
        "version": 3
      },
      "file_extension": ".py",
      "mimetype": "text/x-python",
      "name": "python",
      "nbconvert_exporter": "python",
      "pygments_lexer": "ipython3",
      "version": "3.7.0"
    },
    "toc": {
      "base_numbering": 1,
      "nav_menu": {},
      "number_sections": true,
      "sideBar": true,
      "skip_h1_title": false,
      "title_cell": "Table of Contents",
      "title_sidebar": "Contents",
      "toc_cell": false,
      "toc_position": {},
      "toc_section_display": true,
      "toc_window_display": false
    },
    "varInspector": {
      "cols": {
        "lenName": 16,
        "lenType": 16,
        "lenVar": 40
      },
      "kernels_config": {
        "python": {
          "delete_cmd_postfix": "",
          "delete_cmd_prefix": "del ",
          "library": "var_list.py",
          "varRefreshCmd": "print(var_dic_list())"
        },
        "r": {
          "delete_cmd_postfix": ") ",
          "delete_cmd_prefix": "rm(",
          "library": "var_list.r",
          "varRefreshCmd": "cat(var_dic_list()) "
        }
      },
      "types_to_exclude": [
        "module",
        "function",
        "builtin_function_or_method",
        "instance",
        "_Feature"
      ],
      "window_display": false
    },
    "colab": {
      "name": "problem_0301_Nazim.ipynb",
      "provenance": [],
      "collapsed_sections": []
    }
  },
  "cells": [
    {
      "cell_type": "markdown",
      "metadata": {
        "id": "iEwkB8x84yrQ"
      },
      "source": [
        "## Quiz #0301"
      ]
    },
    {
      "cell_type": "markdown",
      "metadata": {
        "id": "VHm6YwSV4yrS"
      },
      "source": [
        "### \"Sample size\""
      ]
    },
    {
      "cell_type": "code",
      "metadata": {
        "id": "QZ9p6hWN4yrS"
      },
      "source": [
        "import numpy as np\n",
        "import scipy.stats as st"
      ],
      "execution_count": 2,
      "outputs": []
    },
    {
      "cell_type": "markdown",
      "metadata": {
        "id": "RSwBzNN74yrT"
      },
      "source": [
        "#### Answer the following questions by providing Python code:"
      ]
    },
    {
      "cell_type": "markdown",
      "metadata": {
        "id": "lcJ10fAA4yrT"
      },
      "source": [
        "The female students are known to have mean weight $\\mu=58$kg with  $\\sigma=3$kg. <br>\n",
        "Calculate the *minimum* sample size $n$ in each of the following cases."
      ]
    },
    {
      "cell_type": "code",
      "metadata": {
        "id": "1hSsB7Dv4yrU"
      },
      "source": [
        "mu = 58.0\n",
        "sigma = 3.0"
      ],
      "execution_count": 3,
      "outputs": []
    },
    {
      "cell_type": "markdown",
      "metadata": {
        "id": "XoChzm_L4yrU"
      },
      "source": [
        "1). When we target the standard error is equal to 1kg:"
      ]
    },
    {
      "cell_type": "code",
      "metadata": {
        "colab": {
          "base_uri": "https://localhost:8080/"
        },
        "id": "jIXdChcC4yrV",
        "outputId": "f9de2621-9ddb-407c-9ef4-fee3896fdc8b"
      },
      "source": [
        "std = 1\n",
        "n = (sigma/std)**2\n",
        "print(n)"
      ],
      "execution_count": 24,
      "outputs": [
        {
          "output_type": "stream",
          "text": [
            "9.0\n"
          ],
          "name": "stdout"
        }
      ]
    },
    {
      "cell_type": "markdown",
      "metadata": {
        "id": "CrG0-QYC4yrV"
      },
      "source": [
        "2). When we want the margin error $ME$ of the 95% confidence interval to be equal to 2kg: <br>\n",
        "NOTE: Use the Standard Normal distribution."
      ]
    },
    {
      "cell_type": "code",
      "metadata": {
        "colab": {
          "base_uri": "https://localhost:8080/"
        },
        "id": "xSDQ35Rm4yrW",
        "outputId": "29c59fce-17e4-4fd8-8811-bfb51c6a008e"
      },
      "source": [
        "ME=2\n",
        "z=1.96\n",
        "n=(z*(sigma)/ME)**2\n",
        "print(n)\n"
      ],
      "execution_count": 25,
      "outputs": [
        {
          "output_type": "stream",
          "text": [
            "2.467280440427208\n"
          ],
          "name": "stdout"
        }
      ]
    },
    {
      "cell_type": "markdown",
      "metadata": {
        "id": "fEDEvT364yrW"
      },
      "source": [
        "3). When we want the margin error $ME$ of the 95% confidence interval to be equal to 2kg: <br>\n",
        "NOTE: Use the Student-t distribution. <br>\n",
        "HINT: As the Student-t distribution depends on $n$, it is not as straightforward as in the Stadard Normal case."
      ]
    },
    {
      "cell_type": "code",
      "metadata": {
        "id": "HPdHCzeR4yrW"
      },
      "source": [
        ""
      ],
      "execution_count": 34,
      "outputs": []
    },
    {
      "cell_type": "code",
      "metadata": {
        "id": "6ILVaWSK4yrX"
      },
      "source": [
        ""
      ],
      "execution_count": null,
      "outputs": []
    }
  ]
}