{
  "nbformat": 4,
  "nbformat_minor": 0,
  "metadata": {
    "kernelspec": {
      "display_name": "Python 3",
      "language": "python",
      "name": "python3"
    },
    "language_info": {
      "codemirror_mode": {
        "name": "ipython",
        "version": 3
      },
      "file_extension": ".py",
      "mimetype": "text/x-python",
      "name": "python",
      "nbconvert_exporter": "python",
      "pygments_lexer": "ipython3",
      "version": "3.7.0"
    },
    "toc": {
      "base_numbering": 1,
      "nav_menu": {},
      "number_sections": true,
      "sideBar": true,
      "skip_h1_title": false,
      "title_cell": "Table of Contents",
      "title_sidebar": "Contents",
      "toc_cell": false,
      "toc_position": {},
      "toc_section_display": true,
      "toc_window_display": false
    },
    "varInspector": {
      "cols": {
        "lenName": 16,
        "lenType": 16,
        "lenVar": 40
      },
      "kernels_config": {
        "python": {
          "delete_cmd_postfix": "",
          "delete_cmd_prefix": "del ",
          "library": "var_list.py",
          "varRefreshCmd": "print(var_dic_list())"
        },
        "r": {
          "delete_cmd_postfix": ") ",
          "delete_cmd_prefix": "rm(",
          "library": "var_list.r",
          "varRefreshCmd": "cat(var_dic_list()) "
        }
      },
      "types_to_exclude": [
        "module",
        "function",
        "builtin_function_or_method",
        "instance",
        "_Feature"
      ],
      "window_display": false
    },
    "colab": {
      "name": "problem_0306.ipynb",
      "provenance": [],
      "collapsed_sections": []
    }
  },
  "cells": [
    {
      "cell_type": "markdown",
      "metadata": {
        "id": "aGIwv-HWcuwH"
      },
      "source": [
        "## Quiz #0306"
      ]
    },
    {
      "cell_type": "markdown",
      "metadata": {
        "id": "jVLE9kfCcuwJ"
      },
      "source": [
        "### \"F test of variance ratio\""
      ]
    },
    {
      "cell_type": "code",
      "metadata": {
        "id": "zwqhRpk-cuwK"
      },
      "source": [
        "import numpy as np\n",
        "import scipy.stats as st"
      ],
      "execution_count": 1,
      "outputs": []
    },
    {
      "cell_type": "markdown",
      "metadata": {
        "id": "l09sTqQhcuwL"
      },
      "source": [
        "#### Answer the following questions by providing Python code:"
      ]
    },
    {
      "cell_type": "markdown",
      "metadata": {
        "id": "7vuAIvwacuwL"
      },
      "source": [
        "In a factory there are two packaging machines. Output samples are drawn from each machine. <br>\n",
        "- $n_1=15$, $\\bar{x}_1=5.0592 kg$, $s_1^2=0.1130 kg^2$\n",
        "- $n_2=12$, $\\bar{x}_2=4.9808 kg$, $s_2^2=0.0152 kg^2$  \n",
        "\n",
        "Test whether there is a significant difference in the variances (95%)."
      ]
    },
    {
      "cell_type": "code",
      "metadata": {
        "id": "n91drWLtcuwL"
      },
      "source": [
        "n1 = 15\n",
        "ssq1 = 0.1130\n",
        "n2 = 12\n",
        "ssq2 = 0.0152"
      ],
      "execution_count": 2,
      "outputs": []
    },
    {
      "cell_type": "markdown",
      "metadata": {
        "id": "4Mt0hD92cuwM"
      },
      "source": [
        "1). Do the right tail test:"
      ]
    },
    {
      "cell_type": "code",
      "metadata": {
        "colab": {
          "base_uri": "https://localhost:8080/"
        },
        "id": "ZPgBNbwkcuwN",
        "outputId": "671d9c74-3cde-401a-fc76-ce52952c9aec"
      },
      "source": [
        "test_stat = ssq1/ssq2\n",
        "1 - st.f.cdf(test_stat, n1-1, n2-1)"
      ],
      "execution_count": 3,
      "outputs": [
        {
          "output_type": "execute_result",
          "data": {
            "text/plain": [
              "0.0009847696603404454"
            ]
          },
          "metadata": {
            "tags": []
          },
          "execution_count": 3
        }
      ]
    },
    {
      "cell_type": "code",
      "metadata": {
        "colab": {
          "base_uri": "https://localhost:8080/"
        },
        "id": "D1S_kbbagYPZ",
        "outputId": "520d163e-671d-415d-f96f-ff785b137642"
      },
      "source": [
        "test_stat"
      ],
      "execution_count": 7,
      "outputs": [
        {
          "output_type": "execute_result",
          "data": {
            "text/plain": [
              "7.434210526315789"
            ]
          },
          "metadata": {
            "tags": []
          },
          "execution_count": 7
        }
      ]
    },
    {
      "cell_type": "code",
      "metadata": {
        "colab": {
          "base_uri": "https://localhost:8080/"
        },
        "id": "3cSJDWW8cuwN",
        "outputId": "f382bdce-ab95-489e-8b45-e93272100b6d"
      },
      "source": [
        "test_stat = ssq1/ssq2\n",
        "st.f.cdf(test_stat, n1-1, n2-1)"
      ],
      "execution_count": 4,
      "outputs": [
        {
          "output_type": "execute_result",
          "data": {
            "text/plain": [
              "0.9990152303396596"
            ]
          },
          "metadata": {
            "tags": []
          },
          "execution_count": 4
        }
      ]
    },
    {
      "cell_type": "markdown",
      "metadata": {
        "id": "StRUtKUScuwO"
      },
      "source": [
        "2). Do the two tail test:"
      ]
    },
    {
      "cell_type": "code",
      "metadata": {
        "colab": {
          "base_uri": "https://localhost:8080/"
        },
        "id": "E7Ok9DFccuwO",
        "outputId": "4d4f7f91-19f3-48da-f387-d70c083105ea"
      },
      "source": [
        "test_stat = ssq1/ssq2\n",
        "(1 - st.f.cdf(test_stat, n1-1, n2-1))*2"
      ],
      "execution_count": 5,
      "outputs": [
        {
          "output_type": "execute_result",
          "data": {
            "text/plain": [
              "0.001969539320680891"
            ]
          },
          "metadata": {
            "tags": []
          },
          "execution_count": 5
        }
      ]
    },
    {
      "cell_type": "markdown",
      "metadata": {
        "id": "ZqwFyphScuwO"
      },
      "source": [
        "3). Briefly discuss the results:"
      ]
    },
    {
      "cell_type": "code",
      "metadata": {
        "id": "r5zeqvgocuwP"
      },
      "source": [
        "# Two tail test = 0.001,  so we reject the null hypothesis, the variances are not equal"
      ],
      "execution_count": 10,
      "outputs": []
    }
  ]
}