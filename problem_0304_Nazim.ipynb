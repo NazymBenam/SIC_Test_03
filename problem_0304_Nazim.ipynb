{
  "nbformat": 4,
  "nbformat_minor": 0,
  "metadata": {
    "kernelspec": {
      "display_name": "Python 3",
      "language": "python",
      "name": "python3"
    },
    "language_info": {
      "codemirror_mode": {
        "name": "ipython",
        "version": 3
      },
      "file_extension": ".py",
      "mimetype": "text/x-python",
      "name": "python",
      "nbconvert_exporter": "python",
      "pygments_lexer": "ipython3",
      "version": "3.7.0"
    },
    "toc": {
      "base_numbering": 1,
      "nav_menu": {},
      "number_sections": true,
      "sideBar": true,
      "skip_h1_title": false,
      "title_cell": "Table of Contents",
      "title_sidebar": "Contents",
      "toc_cell": false,
      "toc_position": {},
      "toc_section_display": true,
      "toc_window_display": false
    },
    "varInspector": {
      "cols": {
        "lenName": 16,
        "lenType": 16,
        "lenVar": 40
      },
      "kernels_config": {
        "python": {
          "delete_cmd_postfix": "",
          "delete_cmd_prefix": "del ",
          "library": "var_list.py",
          "varRefreshCmd": "print(var_dic_list())"
        },
        "r": {
          "delete_cmd_postfix": ") ",
          "delete_cmd_prefix": "rm(",
          "library": "var_list.r",
          "varRefreshCmd": "cat(var_dic_list()) "
        }
      },
      "types_to_exclude": [
        "module",
        "function",
        "builtin_function_or_method",
        "instance",
        "_Feature"
      ],
      "window_display": false
    },
    "colab": {
      "name": "problem_0304_Nazim.ipynb",
      "provenance": [],
      "collapsed_sections": []
    }
  },
  "cells": [
    {
      "cell_type": "markdown",
      "metadata": {
        "id": "BIbIRsJSP5DC"
      },
      "source": [
        "## Coding Problem #0304"
      ]
    },
    {
      "cell_type": "markdown",
      "metadata": {
        "id": "yPpSoJV7P5DE"
      },
      "source": [
        "### \"Policy support rate\""
      ]
    },
    {
      "cell_type": "code",
      "metadata": {
        "id": "LnsR9nweP5DF"
      },
      "source": [
        "import numpy as np\n",
        "import scipy.stats as st"
      ],
      "execution_count": 2,
      "outputs": []
    },
    {
      "cell_type": "markdown",
      "metadata": {
        "id": "5Gwwe8roP5DF"
      },
      "source": [
        "#### Answer the following questions by providing Python code:"
      ]
    },
    {
      "cell_type": "markdown",
      "metadata": {
        "id": "1KYM_ayXP5DG"
      },
      "source": [
        "It is known that the overall policy support rate is 52%. <br>"
      ]
    },
    {
      "cell_type": "code",
      "metadata": {
        "id": "WqnF9C68P5DG"
      },
      "source": [
        "p = 0.52"
      ],
      "execution_count": 3,
      "outputs": []
    },
    {
      "cell_type": "markdown",
      "metadata": {
        "id": "yu_ZNBqAP5DG"
      },
      "source": [
        "1). What is the probability of support rate less than 50% when asked to 100 people? <br>\n",
        "HINT: Use sample proportion and Standard Normal distribution."
      ]
    },
    {
      "cell_type": "code",
      "metadata": {
        "colab": {
          "base_uri": "https://localhost:8080/"
        },
        "id": "z8-cVj7_P5DH",
        "outputId": "66d65b4c-264b-4c2f-ef6c-1cb4e0602202"
      },
      "source": [
        "n = 100\n",
        "std_error = np.sqrt(p*(1-p)/(n-1))\n",
        "z = (0.5 - p)/std_error\n",
        "st.norm.cdf(z)"
      ],
      "execution_count": 4,
      "outputs": [
        {
          "output_type": "execute_result",
          "data": {
            "text/plain": [
              "0.3451994618413022"
            ]
          },
          "metadata": {
            "tags": []
          },
          "execution_count": 4
        }
      ]
    },
    {
      "cell_type": "markdown",
      "metadata": {
        "id": "DfB2Ye6JP5DH"
      },
      "source": [
        "2). What is the probability of support rate less than 50% when asked to 300 people? <br>\n",
        "HINT: Use sample proportion and Standard Normal distribution."
      ]
    },
    {
      "cell_type": "code",
      "metadata": {
        "colab": {
          "base_uri": "https://localhost:8080/"
        },
        "id": "XlPFZK6lP5DI",
        "outputId": "1b06353f-b27f-4156-c6f2-51c282a73ce0"
      },
      "source": [
        "n2 = 300\n",
        "std_error = np.sqrt(p*(1-p)/(n2-1))\n",
        "z = (0.5 - p)/std_error\n",
        "st.norm.cdf(z)"
      ],
      "execution_count": 5,
      "outputs": [
        {
          "output_type": "execute_result",
          "data": {
            "text/plain": [
              "0.24440001250913124"
            ]
          },
          "metadata": {
            "tags": []
          },
          "execution_count": 5
        }
      ]
    },
    {
      "cell_type": "markdown",
      "metadata": {
        "id": "7lI9CSNjP5DI"
      },
      "source": [
        "3). Redo the calculations of 1) and 2) using the Binomial distribution. Then, compare."
      ]
    },
    {
      "cell_type": "code",
      "metadata": {
        "colab": {
          "base_uri": "https://localhost:8080/"
        },
        "id": "s_T1tA5BP5DJ",
        "outputId": "3f6d9c5f-16f7-4078-f9a1-212b8f9a2839"
      },
      "source": [
        "# Redo of 1).\n",
        "st.binom.cdf(0.5*n,n,p)"
      ],
      "execution_count": 6,
      "outputs": [
        {
          "output_type": "execute_result",
          "data": {
            "text/plain": [
              "0.3816199474102779"
            ]
          },
          "metadata": {
            "tags": []
          },
          "execution_count": 6
        }
      ]
    },
    {
      "cell_type": "code",
      "metadata": {
        "colab": {
          "base_uri": "https://localhost:8080/"
        },
        "id": "tV0Tqg02P5DJ",
        "outputId": "edfa29c7-ca9e-4358-e08a-dd1b417692b9"
      },
      "source": [
        "# Redo of 2).\n",
        "st.binom.cdf(0.5*n2,n2,p)"
      ],
      "execution_count": 7,
      "outputs": [
        {
          "output_type": "execute_result",
          "data": {
            "text/plain": [
              "0.2624050639758823"
            ]
          },
          "metadata": {
            "tags": []
          },
          "execution_count": 7
        }
      ]
    },
    {
      "cell_type": "markdown",
      "metadata": {
        "id": "YqW7CZU1P5DJ"
      },
      "source": [
        "4). Redo the calculations of 1) and 2) using the Poisson distribution. Then, compare."
      ]
    },
    {
      "cell_type": "code",
      "metadata": {
        "colab": {
          "base_uri": "https://localhost:8080/"
        },
        "id": "maw5joFkP5DK",
        "outputId": "4b97a42e-7fcb-4023-826e-5af9d320d932"
      },
      "source": [
        "# Redo of 1).\n",
        "st.poisson.cdf(0.5*n, 0.52*n)"
      ],
      "execution_count": 10,
      "outputs": [
        {
          "output_type": "execute_result",
          "data": {
            "text/plain": [
              "0.42632224798181584"
            ]
          },
          "metadata": {
            "tags": []
          },
          "execution_count": 10
        }
      ]
    },
    {
      "cell_type": "code",
      "metadata": {
        "id": "5HrbH7VyP5DK"
      },
      "source": [
        "# Redo of 2).\n"
      ],
      "execution_count": 9,
      "outputs": []
    },
    {
      "cell_type": "code",
      "metadata": {
        "id": "-TgDKIBaP5DK"
      },
      "source": [
        ""
      ],
      "execution_count": 9,
      "outputs": []
    }
  ]
}