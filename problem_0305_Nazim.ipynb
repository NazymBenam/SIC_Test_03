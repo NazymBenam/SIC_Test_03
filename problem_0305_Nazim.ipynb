{
  "nbformat": 4,
  "nbformat_minor": 0,
  "metadata": {
    "kernelspec": {
      "display_name": "Python 3",
      "language": "python",
      "name": "python3"
    },
    "language_info": {
      "codemirror_mode": {
        "name": "ipython",
        "version": 3
      },
      "file_extension": ".py",
      "mimetype": "text/x-python",
      "name": "python",
      "nbconvert_exporter": "python",
      "pygments_lexer": "ipython3",
      "version": "3.7.0"
    },
    "toc": {
      "base_numbering": 1,
      "nav_menu": {},
      "number_sections": true,
      "sideBar": true,
      "skip_h1_title": false,
      "title_cell": "Table of Contents",
      "title_sidebar": "Contents",
      "toc_cell": false,
      "toc_position": {},
      "toc_section_display": true,
      "toc_window_display": false
    },
    "varInspector": {
      "cols": {
        "lenName": 16,
        "lenType": 16,
        "lenVar": 40
      },
      "kernels_config": {
        "python": {
          "delete_cmd_postfix": "",
          "delete_cmd_prefix": "del ",
          "library": "var_list.py",
          "varRefreshCmd": "print(var_dic_list())"
        },
        "r": {
          "delete_cmd_postfix": ") ",
          "delete_cmd_prefix": "rm(",
          "library": "var_list.r",
          "varRefreshCmd": "cat(var_dic_list()) "
        }
      },
      "types_to_exclude": [
        "module",
        "function",
        "builtin_function_or_method",
        "instance",
        "_Feature"
      ],
      "window_display": false
    },
    "colab": {
      "name": "problem_0305_Nazim.ipynb",
      "provenance": [],
      "collapsed_sections": []
    }
  },
  "cells": [
    {
      "cell_type": "markdown",
      "metadata": {
        "id": "6Fz2wfX2UATB"
      },
      "source": [
        "## Quiz #0305"
      ]
    },
    {
      "cell_type": "markdown",
      "metadata": {
        "id": "l_gqy2J8UATD"
      },
      "source": [
        "### \"Correlation and interval estimation\""
      ]
    },
    {
      "cell_type": "code",
      "metadata": {
        "id": "H2d3YNHqUATE"
      },
      "source": [
        "import numpy as np\n",
        "import math\n",
        "import scipy.stats as st"
      ],
      "execution_count": 7,
      "outputs": []
    },
    {
      "cell_type": "markdown",
      "metadata": {
        "id": "vGkR-sqjUATF"
      },
      "source": [
        "#### Answer the following questions by providing Python code:"
      ]
    },
    {
      "cell_type": "markdown",
      "metadata": {
        "id": "ISBy8DwiUATF"
      },
      "source": [
        "Calculate the 95% and 99% conficence intervals for the Pearson correlation. <br>\n",
        "Discuss whether the confidence interval includes zero or not."
      ]
    },
    {
      "cell_type": "markdown",
      "metadata": {
        "id": "UIWGfOWqUATG"
      },
      "source": [
        "1). When the sample size $n = 30$ and the sample correlation $r = 0.45$:"
      ]
    },
    {
      "cell_type": "code",
      "metadata": {
        "id": "90-mM3tVUATG"
      },
      "source": [
        "n = 30\n",
        "r = 0.45"
      ],
      "execution_count": 21,
      "outputs": []
    },
    {
      "cell_type": "code",
      "metadata": {
        "colab": {
          "base_uri": "https://localhost:8080/"
        },
        "id": "2K-fRECgXIVJ",
        "outputId": "0ad76896-b720-4814-a86d-97d4eab89e45"
      },
      "source": [
        "z = np.arctanh(r)\n",
        "print(z)"
      ],
      "execution_count": 22,
      "outputs": [
        {
          "output_type": "stream",
          "text": [
            "0.48470027859405174\n"
          ],
          "name": "stdout"
        }
      ]
    },
    {
      "cell_type": "code",
      "metadata": {
        "colab": {
          "base_uri": "https://localhost:8080/"
        },
        "id": "CUIs-SUHUATH",
        "outputId": "889c6d76-29a9-4954-9fcf-3d12bec88028"
      },
      "source": [
        "# 95% confidence interval. \n",
        "\n",
        "std_error_z = 1/np.sqrt(n-3)\n",
        "\n",
        "print('low=' , np.tanh(z-st.norm.ppf(0.975) * std_error_z) , 'high=' , np.tanh(z+st.norm.ppf(0.975)*std_error_z))"
      ],
      "execution_count": 39,
      "outputs": [
        {
          "output_type": "stream",
          "text": [
            "low= 0.10709278247377604 high= 0.6972330057657297\n"
          ],
          "name": "stdout"
        }
      ]
    },
    {
      "cell_type": "code",
      "metadata": {
        "colab": {
          "base_uri": "https://localhost:8080/"
        },
        "id": "kxZYwtBvUATH",
        "outputId": "e1c8ef0e-930d-4fc4-e29d-55001c92739e"
      },
      "source": [
        "# 99% confidence interval. \n",
        "std_error_z = 1/np.sqrt(n-3)\n",
        "\n",
        "print('low=' , np.tanh(z-st.norm.ppf(0.995) * std_error_z) , 'high=' , np.tanh(z+st.norm.ppf(0.995)*std_error_z))"
      ],
      "execution_count": 40,
      "outputs": [
        {
          "output_type": "stream",
          "text": [
            "low= -0.011017856139532253 high= 0.7532471683684436\n"
          ],
          "name": "stdout"
        }
      ]
    },
    {
      "cell_type": "markdown",
      "metadata": {
        "id": "Qiwrc6pEUATI"
      },
      "source": [
        "2). When the sample size $n = 300$ and the sample correlation $r = -0.2$:"
      ]
    },
    {
      "cell_type": "code",
      "metadata": {
        "id": "XWUmwRLPUATJ"
      },
      "source": [
        "n2 = 300"
      ],
      "execution_count": 29,
      "outputs": []
    },
    {
      "cell_type": "code",
      "metadata": {
        "colab": {
          "base_uri": "https://localhost:8080/"
        },
        "id": "_iJbrabtUATJ",
        "outputId": "50c865f2-9ba0-4b40-8f38-6624c3e1e518"
      },
      "source": [
        "# 95% confidence interval. \n",
        "std_error_z = 1/np.sqrt(n2-3)\n",
        "\n",
        "print('low=' , np.tanh(z-st.norm.ppf(0.975) * std_error_z) , 'high=' , np.tanh(z+st.norm.ppf(0.975)*std_error_z))"
      ],
      "execution_count": 38,
      "outputs": [
        {
          "output_type": "stream",
          "text": [
            "low= 0.3548412977085138 high= 0.5359306811110521\n"
          ],
          "name": "stdout"
        }
      ]
    },
    {
      "cell_type": "code",
      "metadata": {
        "colab": {
          "base_uri": "https://localhost:8080/"
        },
        "id": "i60ArpSAUATJ",
        "outputId": "bc44a4b8-1da4-4652-c070-5442f393ea23"
      },
      "source": [
        "# 99% confidence interval. \n",
        "std_error_z = 1/np.sqrt(n2-3)\n",
        "\n",
        "print('low=' , np.tanh(z-st.norm.ppf(0.995) * std_error_z) , 'high=' , np.tanh(z+st.norm.ppf(0.995)*std_error_z))"
      ],
      "execution_count": 37,
      "outputs": [
        {
          "output_type": "stream",
          "text": [
            "low= 0.3232172344483703 high= 0.5609135121073504\n"
          ],
          "name": "stdout"
        }
      ]
    },
    {
      "cell_type": "code",
      "metadata": {
        "id": "XxyZK7xRUATK"
      },
      "source": [
        ""
      ],
      "execution_count": null,
      "outputs": []
    }
  ]
}