{
  "nbformat": 4,
  "nbformat_minor": 0,
  "metadata": {
    "kernelspec": {
      "display_name": "Python 3",
      "language": "python",
      "name": "python3"
    },
    "language_info": {
      "codemirror_mode": {
        "name": "ipython",
        "version": 3
      },
      "file_extension": ".py",
      "mimetype": "text/x-python",
      "name": "python",
      "nbconvert_exporter": "python",
      "pygments_lexer": "ipython3",
      "version": "3.7.0"
    },
    "toc": {
      "base_numbering": 1,
      "nav_menu": {},
      "number_sections": true,
      "sideBar": true,
      "skip_h1_title": false,
      "title_cell": "Table of Contents",
      "title_sidebar": "Contents",
      "toc_cell": false,
      "toc_position": {},
      "toc_section_display": true,
      "toc_window_display": false
    },
    "varInspector": {
      "cols": {
        "lenName": 16,
        "lenType": 16,
        "lenVar": 40
      },
      "kernels_config": {
        "python": {
          "delete_cmd_postfix": "",
          "delete_cmd_prefix": "del ",
          "library": "var_list.py",
          "varRefreshCmd": "print(var_dic_list())"
        },
        "r": {
          "delete_cmd_postfix": ") ",
          "delete_cmd_prefix": "rm(",
          "library": "var_list.r",
          "varRefreshCmd": "cat(var_dic_list()) "
        }
      },
      "types_to_exclude": [
        "module",
        "function",
        "builtin_function_or_method",
        "instance",
        "_Feature"
      ],
      "window_display": false
    },
    "colab": {
      "name": "problem_0303_Nazim.ipynb",
      "provenance": [],
      "collapsed_sections": []
    }
  },
  "cells": [
    {
      "cell_type": "markdown",
      "metadata": {
        "id": "4mpfw1xmLcQC"
      },
      "source": [
        "## Quiz #0303"
      ]
    },
    {
      "cell_type": "markdown",
      "metadata": {
        "id": "SA4AHXCULcQD"
      },
      "source": [
        "### \"Ball bearing quality control\""
      ]
    },
    {
      "cell_type": "code",
      "metadata": {
        "id": "czX95z1hLcQE"
      },
      "source": [
        "import numpy as np\n",
        "import scipy.stats as st"
      ],
      "execution_count": 4,
      "outputs": []
    },
    {
      "cell_type": "markdown",
      "metadata": {
        "id": "yhWGUhQJLcQF"
      },
      "source": [
        "#### Answer the following questions by providing Python code:"
      ]
    },
    {
      "cell_type": "markdown",
      "metadata": {
        "id": "z3vuh-LULcQF"
      },
      "source": [
        "It is known that 3% of the ball bearings from a production line are defective. <br>\n",
        "Suppose that a sample of 500 ball bearings is drawn."
      ]
    },
    {
      "cell_type": "code",
      "metadata": {
        "id": "M3TCZsQJLcQG"
      },
      "source": [
        "p = 0.03\n",
        "n = 500"
      ],
      "execution_count": 1,
      "outputs": []
    },
    {
      "cell_type": "code",
      "metadata": {
        "colab": {
          "base_uri": "https://localhost:8080/"
        },
        "id": "WPIt6m2yLcQG",
        "outputId": "8da14640-9126-45c1-9406-466948092525"
      },
      "source": [
        "print(n*p)                               # Check wheather this is larger than 10. => OK\n",
        "print(n*(1-p))                           # Check wheather this is larger than 10. => OK"
      ],
      "execution_count": 2,
      "outputs": [
        {
          "output_type": "stream",
          "text": [
            "15.0\n",
            "485.0\n"
          ],
          "name": "stdout"
        }
      ]
    },
    {
      "cell_type": "markdown",
      "metadata": {
        "id": "0ZU2DXbnLcQG"
      },
      "source": [
        "1). What is the probability that the sample defect rate is larger than 5%? <br>\n",
        "HINT: Use sample proportion and Standard Normal distribution."
      ]
    },
    {
      "cell_type": "code",
      "metadata": {
        "colab": {
          "base_uri": "https://localhost:8080/"
        },
        "id": "oasdjbQyLcQH",
        "outputId": "bba2a508-92a3-4dd7-a8d2-c179960660f6"
      },
      "source": [
        "std_error = np.sqrt(p*(1-p)/(n-1))\n",
        "z = (0.05 - p)/std_error\n",
        "1 - st.norm.cdf(z)"
      ],
      "execution_count": 7,
      "outputs": [
        {
          "output_type": "execute_result",
          "data": {
            "text/plain": [
              "0.004409531796525812"
            ]
          },
          "metadata": {
            "tags": []
          },
          "execution_count": 7
        }
      ]
    },
    {
      "cell_type": "markdown",
      "metadata": {
        "id": "R7JG0TSiLcQH"
      },
      "source": [
        "2). What is the probability that the sample defect rate is less than 2%? <br>\n",
        "HINT: Use sample proportion and Standard Normal distribution."
      ]
    },
    {
      "cell_type": "code",
      "metadata": {
        "colab": {
          "base_uri": "https://localhost:8080/"
        },
        "id": "rx4chQgLLcQI",
        "outputId": "b609081c-b8eb-4579-9c99-0b7b5f7b065d"
      },
      "source": [
        "z = (0.02 - p)/std_error\n",
        "st.norm.cdf(z)"
      ],
      "execution_count": 21,
      "outputs": [
        {
          "output_type": "execute_result",
          "data": {
            "text/plain": [
              "0.09518339894884237"
            ]
          },
          "metadata": {
            "tags": []
          },
          "execution_count": 21
        }
      ]
    },
    {
      "cell_type": "markdown",
      "metadata": {
        "id": "QNtjdrGtLcQI"
      },
      "source": [
        "3). Redo the calculations of 1) and 2) using the Binomial distribution. Then, compare."
      ]
    },
    {
      "cell_type": "code",
      "metadata": {
        "colab": {
          "base_uri": "https://localhost:8080/"
        },
        "id": "1EERfAHALcQI",
        "outputId": "7ebd534c-d524-44a4-ce1d-7446f1629017"
      },
      "source": [
        "# Redo of 1).\n",
        "1-st.binom.cdf(0.05*n,n,p)"
      ],
      "execution_count": 20,
      "outputs": [
        {
          "output_type": "execute_result",
          "data": {
            "text/plain": [
              "0.005456997386145246"
            ]
          },
          "metadata": {
            "tags": []
          },
          "execution_count": 20
        }
      ]
    },
    {
      "cell_type": "code",
      "metadata": {
        "colab": {
          "base_uri": "https://localhost:8080/"
        },
        "id": "ew_pNuUNLcQI",
        "outputId": "f44dbdf5-4368-4107-c883-0ad822af1bf1"
      },
      "source": [
        "# Redo of 2).\n",
        "st.binom.cdf(0.02*n,n,p)"
      ],
      "execution_count": 22,
      "outputs": [
        {
          "output_type": "execute_result",
          "data": {
            "text/plain": [
              "0.11478748420385211"
            ]
          },
          "metadata": {
            "tags": []
          },
          "execution_count": 22
        }
      ]
    },
    {
      "cell_type": "code",
      "metadata": {
        "id": "TcPSwoMCLcQJ"
      },
      "source": [
        ""
      ],
      "execution_count": null,
      "outputs": []
    }
  ]
}